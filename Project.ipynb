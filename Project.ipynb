{
 "cells": [
  {
   "cell_type": "markdown",
   "metadata": {},
   "source": [
    "###  1 Language: Python"
   ]
  },
  {
   "cell_type": "markdown",
   "metadata": {},
   "source": [
    "All numerical code should be written in Python."
   ]
  },
  {
   "cell_type": "markdown",
   "metadata": {},
   "source": [
    "### 2. The number $N$"
   ]
  },
  {
   "cell_type": "markdown",
   "metadata": {},
   "source": [
    "For me the number $N$ is $72$."
   ]
  },
  {
   "cell_type": "code",
   "execution_count": 97,
   "metadata": {},
   "outputs": [],
   "source": [
    "N=72"
   ]
  },
  {
   "cell_type": "markdown",
   "metadata": {},
   "source": [
    "### 3. Existence but not uniqueness\n"
   ]
  },
  {
   "cell_type": "markdown",
   "metadata": {},
   "source": [
    "\n",
    "Consider the BVP (Boundary Value Problem):\n",
    "$$\n",
    "y^{\\prime} = \\sqrt{|y|}, \\quad y(0)=0\n",
    "$$"
   ]
  },
  {
   "cell_type": "markdown",
   "metadata": {},
   "source": [
    "- Warm up by solving it analytically.\n"
   ]
  },
  {
   "cell_type": "markdown",
   "metadata": {},
   "source": [
    "For the $y<0$:\n",
    "$$\n",
    "\\begin{gathered}\n",
    "\\frac{d y}{d x}=\\sqrt{-y} \\\\\n",
    "(-y)^{-\\frac{1}{2}} \\frac{d y}{d x}=1 \\\\\n",
    "-2 \\sqrt{-y}=x+c \\\\\n",
    "-4 y=(x+c)^2 \\\\\n",
    "y=-\\frac{1}{4}(x+c)^2\n",
    "\\end{gathered}\n",
    "$$\n",
    "$$\n",
    "y(x)=-\\frac{x^2}{4}\n",
    "$$"
   ]
  },
  {
   "cell_type": "markdown",
   "metadata": {},
   "source": [
    "for $y>0$\n",
    "$$\n",
    "\\begin{gathered}\n",
    "\\frac{d y}{d x}=\\sqrt{y} \\\\\n",
    "(y)^{-\\frac{1}{2}} y^{\\prime}=1 \\\\\n",
    "2 y^{\\frac{1}{2}}=x+c \\\\\n",
    "y^{\\frac{1}{2}}=\\frac{1}{2}(x+c) \\\\\n",
    "y=\\frac{1}{4}(x+c)^2\n",
    "\\end{gathered}\n",
    "$$\n",
    "$$\n",
    "y(x)=\\frac{x^2}{4}\n",
    "$$"
   ]
  },
  {
   "cell_type": "markdown",
   "metadata": {},
   "source": [
    "Solve the problem numerically. \n",
    "\n",
    "- Any comments?"
   ]
  },
  {
   "cell_type": "markdown",
   "metadata": {},
   "source": [
    "I like RK4 it seemed like the best one due to its accuracy and stability."
   ]
  },
  {
   "cell_type": "code",
   "execution_count": 98,
   "metadata": {},
   "outputs": [],
   "source": [
    "import math \n",
    "import numpy as np\n",
    "import matplotlib.pyplot as plt"
   ]
  },
  {
   "cell_type": "code",
   "execution_count": 99,
   "metadata": {},
   "outputs": [],
   "source": [
    "def f(t, y):\n",
    "    return math.sqrt(abs(y))"
   ]
  },
  {
   "cell_type": "code",
   "execution_count": 100,
   "metadata": {},
   "outputs": [],
   "source": [
    "def rk_fyra(f, y0, t0, t_final, h):\n",
    "    t_värde = [t0]\n",
    "    y_värde = [y0]\n",
    "    \n",
    "    while t_värde[-1] < t_final:\n",
    "        k1 = f(t_värde[-1], y_värde[-1])\n",
    "        k2 = f(t_värde[-1] + h/2, y_värde[-1] + h/2 * k1)\n",
    "        k3 = f(t_värde[-1] + h/2, y_värde[-1] + h/2 * k2)\n",
    "        k4 = f(t_värde[-1] + h, y_värde[-1] + h * k3)\n",
    "    \n",
    "        t_next = t_värde[-1] + h\n",
    "        y_next = y_värde[-1] + h/6 * (k1 + 2*k2 + 2*k3 + k4)\n",
    "\n",
    "        t_värde.append(t_next)\n",
    "        y_värde.append(y_next)\n",
    "\n",
    "    return t_värde, y_värde"
   ]
  },
  {
   "cell_type": "code",
   "execution_count": 101,
   "metadata": {},
   "outputs": [],
   "source": [
    "t_start = 0\n",
    "y0 = 0\n",
    "t_slut = 10\n",
    "N = 1000\n",
    "h = (t_slut - t_start) / N"
   ]
  },
  {
   "cell_type": "code",
   "execution_count": 102,
   "metadata": {},
   "outputs": [],
   "source": [
    "rk_t_värde, rk_y_värde = rk_fyra(f, y0, t_start, t_slut, h)"
   ]
  },
  {
   "cell_type": "code",
   "execution_count": 103,
   "metadata": {},
   "outputs": [
    {
     "data": {
      "image/png": "[encoded data removed]",
      "text/plain": [
       "<Figure size 640x480 with 1 Axes>"
      ]
     },
     "metadata": {},
     "output_type": "display_data"
    }
   ],
   "source": [
    "plt.plot(rk_t_värde, rk_y_värde, label='RK4 Solution')\n",
    "plt.title(\"Solution of y'=sqrt(|y|) using RK4 method\")\n",
    "plt.xlabel('t')\n",
    "plt.ylabel('y(t)')\n",
    "plt.legend()\n",
    "plt.grid(True)\n",
    "plt.show()"
   ]
  },
  {
   "cell_type": "markdown",
   "metadata": {},
   "source": [
    "Given the differential equation $y' = \\sqrt{|y|}$ and the initial condition $y(0) = 0$, it is expected that the solution remains at $y = 0$ for all $t$\n",
    "\n",
    "1. At $t = 0$, $y = 0$. \n",
    "2. The derivative $y'$ is also 0 because $y' = \\sqrt{|0|} = 0$.\n",
    "3. Since the derivative is zero, $y$ doesn't change and remains at 0.\n",
    "4. This continues for all subsequent time steps.\n",
    "\n",
    "Thus, the solution is a horizontal line at $y = 0$, which is consistent with the result you observed.\n",
    "\n",
    "However, if we perturb the initial condition slightly (e.g., $y(0) = \\epsilon$ where $\\epsilon$ is a small positive value), we will see a non-zero solution that grows over time. This is because the system is sensitive to the initial condition."
   ]
  },
  {
   "cell_type": "markdown",
   "metadata": {},
   "source": [
    "- For how long can you get a numerical solution to \"stick\" to $y=0$ given that $y(-1)=-1$? \n",
    "- That is, let $y(-1)=-1+\\epsilon$ with $\\epsilon$ being \"tiny\", and we say that $y$ \"sticks\" as long as $|y| \\leq 10^{-4}$."
   ]
  },
  {
   "cell_type": "markdown",
   "metadata": {},
   "source": [
    "1. We modify the initial conditions to start at $t=-1$ with $y(-1)=-1+\\epsilon$.\n",
    "2. We run the simulation using the Runge-Kutta method.\n",
    "3. Monitor the value of $y$ at each time step.\n",
    "4. Stop the simulation when $|y|>10^{-4}$.\n",
    "5. Report the time $t$ at which this happens."
   ]
  },
  {
   "cell_type": "code",
   "execution_count": 104,
   "metadata": {},
   "outputs": [],
   "source": [
    "def rk_fyra_alt(f, y0, t0, t_final, h):\n",
    "    t_värde = [t0]\n",
    "    y_värde = [y0]\n",
    "    \n",
    "    while t_värde[-1] < t_final:\n",
    "        k1 = f(t_värde[-1], y_värde[-1])\n",
    "        k2 = f(t_värde[-1] + h/2, y_värde[-1] + h/2 * k1)\n",
    "        k3 = f(t_värde[-1] + h/2, y_värde[-1] + h/2 * k2)\n",
    "        k4 = f(t_värde[-1] + h, y_värde[-1] + h * k3)\n",
    "\n",
    "        t_next = t_värde[-1] + h\n",
    "        y_next = y_värde[-1] + h/6 * (k1 + 2*k2 + 2*k3 + k4)\n",
    "\n",
    "        # Check if |y| > 10^-4\n",
    "        if abs(y_next) > 10**-4:\n",
    "            break\n",
    "\n",
    "        t_värde.append(t_next)\n",
    "        y_värde.append(y_next)\n",
    "\n",
    "    return t_värde, y_värde\n"
   ]
  },
  {
   "cell_type": "code",
   "execution_count": 105,
   "metadata": {},
   "outputs": [],
   "source": [
    "t_start = -1\n",
    "y0 = 1e-10 - 10**-4\n",
    "t_slut = 10\n",
    "N = 1000\n",
    "h = (t_slut - t_start) / N"
   ]
  },
  {
   "cell_type": "code",
   "execution_count": 106,
   "metadata": {},
   "outputs": [
    {
     "name": "stdout",
     "output_type": "stream",
     "text": [
      "The solution sticks to y=0 up to t = -0.967\n"
     ]
    },
    {
     "data": {
      "image/png": "[encoded data removed]",
      "text/plain": [
       "<Figure size 640x480 with 1 Axes>"
      ]
     },
     "metadata": {},
     "output_type": "display_data"
    }
   ],
   "source": [
    "rk_t_värde, rk_y_värde = rk_fyra_alt(f, y0, t_start, t_slut, h)\n",
    "\n",
    "print(\"The solution sticks to y=0 up to t =\", rk_t_värde[-1])\n",
    "\n",
    "plt.plot(rk_t_värde, rk_y_värde, label=\"RK4 Solution\")\n",
    "plt.axhline(0, color='gray', linestyle='--')\n",
    "plt.axhline(10**-4, color='red', linestyle='--', label=\"y=10^-4\")\n",
    "plt.axhline(-10**-4, color='red', linestyle='--', label=\"y=-10^-4\")\n",
    "plt.xlabel(\"t\")\n",
    "plt.ylabel(\"y(t)\")\n",
    "plt.legend()\n",
    "plt.title(\"Numerical Solution of the BVP\")\n",
    "plt.show()"
   ]
  },
  {
   "cell_type": "markdown",
   "metadata": {},
   "source": [
    "Answer"
   ]
  },
  {
   "cell_type": "markdown",
   "metadata": {},
   "source": [
    "### 4. PANG"
   ]
  },
  {
   "cell_type": "markdown",
   "metadata": {},
   "source": [
    "Betrakta BVP\n",
    "$$\n",
    "y^{\\prime}=y^2, \\quad y(0)=N / 100\n",
    "$$"
   ]
  },
  {
   "cell_type": "markdown",
   "metadata": {},
   "source": [
    "- Solve the problem analytically. When does it \"blow up\"?\n"
   ]
  },
  {
   "cell_type": "markdown",
   "metadata": {},
   "source": [
    "\n",
    "\n",
    "---\n",
    "\n",
    "$$\n",
    "y' = y^2\n",
    "$$\n",
    "\n",
    "$$\n",
    "\\frac{dy}{y^2} = dt\n",
    "$$\n",
    "\n",
    "$$\n",
    "\\int \\frac{dy}{y^2} = \\int dt\n",
    "$$\n",
    "\n",
    "$$\n",
    "-\\frac{1}{y} = t + C\n",
    "$$\n",
    "\n",
    "$$\n",
    "-\\frac{1}{\\frac{N}{100}} = C\n",
    "$$\n",
    "\n",
    "$$\n",
    "C = -\\frac{100}{N}\n",
    "$$\n",
    "\n",
    "$$\n",
    "-\\frac{1}{y} = t - \\frac{100}{N}\n",
    "$$\n",
    "\n",
    "$$\n",
    "y(t) = \\frac{N}{100 - Nt}\n",
    "$$\n",
    "\n",
    "$$\n",
    "y(t) = \\frac{N}{100 - Nt}\n",
    "$$\n",
    "\n",
    "----\n",
    "$$\n",
    "y(x) = \\frac{N}{100 - Nx}\n",
    "$$\n",
    "\n",
    "The solution \"blows up\" when the denominator is zero:\n",
    "\n",
    "$$\n",
    "100 - Nx = 0\n",
    "$$\n",
    "$$\n",
    "x = \\frac{100}{N}\n",
    "$$"
   ]
  },
  {
   "cell_type": "markdown",
   "metadata": {},
   "source": [
    "- Try solving the problem numerically."
   ]
  },
  {
   "cell_type": "code",
   "execution_count": 107,
   "metadata": {},
   "outputs": [
    {
     "data": {
      "image/png": "[encoded data removed]",
      "text/plain": [
       "<Figure size 800x600 with 1 Axes>"
      ]
     },
     "metadata": {},
     "output_type": "display_data"
    }
   ],
   "source": [
    "\n",
    "N = 72 \n",
    "initial_y = N / 100\n",
    "t_max = 1\n",
    "h = 0.01\n",
    "\n",
    "\n",
    "t_values = np.arange(0, t_max, h)\n",
    "y_values = []\n",
    "\n",
    "\n",
    "y = initial_y\n",
    "\n",
    "\n",
    "for t in t_values:\n",
    "    y_values.append(y)\n",
    "    y += h * y**2\n",
    "\n",
    "\n",
    "plt.figure(figsize=(8, 6))\n",
    "plt.plot(t_values, y_values, label=f'N = {N}')\n",
    "plt.xlabel('Time (t)')\n",
    "plt.ylabel('y(t)')\n",
    "plt.title('Numerical Solution of y\\' = y^2')\n",
    "plt.legend()\n",
    "plt.grid(True)\n",
    "plt.show()\n"
   ]
  },
  {
   "cell_type": "markdown",
   "metadata": {},
   "source": [
    "\n",
    "---\n",
    "\n",
    "- Can you \"numerically show\" that it blows up? \n",
    "- Can you estimate the time to singularity?"
   ]
  },
  {
   "cell_type": "markdown",
   "metadata": {},
   "source": [
    "- To \"numerically show\" that the solution blows up, we can observe the behavior of the indicates that the solution is blowing up.\n",
    "\n",
    "- Large threshold or when it starts increasing very rapidly."
   ]
  },
  {
   "cell_type": "code",
   "execution_count": 120,
   "metadata": {},
   "outputs": [
    {
     "data": {
      "image/png": "[encoded data removed]",
      "text/plain": [
       "<Figure size 800x600 with 1 Axes>"
      ]
     },
     "metadata": {},
     "output_type": "display_data"
    },
    {
     "name": "stdout",
     "output_type": "stream",
     "text": [
      "Estimated time to singularity: 1.47\n"
     ]
    }
   ],
   "source": [
    "import numpy as np\n",
    "import matplotlib.pyplot as plt\n",
    "\n",
    "N = 72 \n",
    "initial_y = N / 100\n",
    "t_max = 100\n",
    "h = 0.01\n",
    "\n",
    "t_values = np.arange(0, t_max, h)\n",
    "y_values = []\n",
    "\n",
    "y = initial_y\n",
    "time_to_singularity = None\n",
    "\n",
    "for t in t_values:\n",
    "    y_values.append(y)\n",
    "    \n",
    "    # Check if y exceeds a large threshold (indicating blow up)\n",
    "    if y > 1e5:\n",
    "        time_to_singularity = t\n",
    "        break\n",
    "\n",
    "    y += h * y**2\n",
    "\n",
    "plt.figure(figsize=(8, 6))\n",
    "plt.plot(t_values[:len(y_values)], y_values, label=f'N = {N}')\n",
    "plt.xlabel('Time (t)')\n",
    "plt.ylabel('y(t)')\n",
    "plt.title(\"Numerical Solution of y' = y^2\")\n",
    "plt.legend()\n",
    "plt.grid(True)\n",
    "plt.show()\n",
    "\n",
    "print(\"Estimated time to singularity:\", time_to_singularity)\n",
    "\n"
   ]
  },
  {
   "cell_type": "markdown",
   "metadata": {},
   "source": [
    "\n",
    "---\n",
    "\n",
    "- Show via Picard that if $y(0)<0$, then $y(t)<0$ for all $t>0$. "
   ]
  },
  {
   "cell_type": "markdown",
   "metadata": {},
   "source": [
    "Certainly! Let's use the Picard iteration method to demonstrate this property for the differential equation \\( y' = y^2 \\).\n",
    "\n",
    "**Picard Iteration**:\n",
    "Given an initial value problem $ y' = f(t, y) $ with $ y(t_0) = y_0 $, the Picard iteration constructs an approximate solution by iteratively defining functions $ y_n(t) $ as:\n",
    "\n",
    "$$ y_{n+1}(t) = y_0 + \\int_{t_0}^{t} f(s, y_n(s)) \\, ds $$\n",
    "\n",
    "For our differential equation, $ f(t, y) = y^2 $.\n",
    "\n",
    "Let's start with the initial condition $ y(0) = y_0 $ where $ y_0 < 0 $.\n",
    "\n",
    "**First Iteration**:\n",
    "$$ y_1(t) = y_0 + \\int_{0}^{t} y_0^2 \\, ds $$\n",
    "$$ y_1(t) = y_0 + y_0^2 t $$\n",
    "\n",
    "Since $ y_0 < 0 $, $ y_0^2 > 0 $, and thus $ y_1(t) $ is increasing. However, since $ y_0 < 0 $, $ y_1(t) $ remains negative for all $ t > 0 $.\n",
    "\n",
    "**Second Iteration**:\n",
    "$$ y_2(t) = y_0 + \\int_{0}^{t} (y_0 + y_0^2 s)^2 \\, ds $$\n",
    "$$ y_2(t) = y_0 + \\int_{0}^{t} y_0^2 + 2y_0^3 s + y_0^4 s^2 \\, ds $$\n",
    "$$ y_2(t) = y_0 + y_0^2 t + y_0^3 t^2 + \\frac{1}{3} y_0^4 t^3 $$\n",
    "\n",
    "Again, since $ y_0 < 0 $, all terms in the expression for $ y_2(t) $ are negative, and $ y_2(t) $ remains negative for all $ t > 0 $.\n",
    "\n",
    "By continuing the Picard iteration, we can observe that at each step, the function remains negative for all $ t > 0 $ given the initial condition $ y_0 < 0 $.\n",
    "\n",
    "Thus, using the Picard iteration, we've shown that if $ y(0) < 0 $, then $ y(t) < 0 $ for all $ t > 0 $.\n",
    "\n",
    "---\n"
   ]
  },
  {
   "cell_type": "markdown",
   "metadata": {},
   "source": [
    "- Can you find numerical examples where $y(0)=\\epsilon<0$, but $y(t)>0$ for some $t>0$? \n",
    "\n",
    "- You may need to modify the equation slightly and use $y' - Cy^2$ for a \"large\" $C>0\". \n",
    "\n",
    "- Philosophical pondering: if you were to create an \"auto-solver,\" how should it avoid/detect deeply erroneous solutions of this kind?"
   ]
  },
  {
   "cell_type": "code",
   "execution_count": 121,
   "metadata": {},
   "outputs": [
    {
     "data": {
      "image/png": "[encoded data removed]",
      "text/plain": [
       "<Figure size 800x600 with 1 Axes>"
      ]
     },
     "metadata": {},
     "output_type": "display_data"
    }
   ],
   "source": [
    "import numpy as np\n",
    "import matplotlib.pyplot as plt\n",
    "\n",
    "def solve_diff_eq(C, epsilon, t_max, h):\n",
    "    # Define the differential equation\n",
    "    def f(t, y):\n",
    "        return -C * y**2\n",
    "\n",
    "    # Initialize arrays for t and y values\n",
    "    t_values = np.arange(0, t_max, h)\n",
    "    y_values = []\n",
    "\n",
    "    y = epsilon\n",
    "\n",
    "    for t in t_values:\n",
    "        y_values.append(y)\n",
    "        y += h * f(t, y)\n",
    "\n",
    "    return t_values, y_values\n",
    "\n",
    "# Given values\n",
    "epsilon = -1e-3  # Small negative initial value\n",
    "C_values = [10, 100, 1000]  # Large positive C values\n",
    "t_max = 1\n",
    "h = 0.01\n",
    "\n",
    "plt.figure(figsize=(8, 6))\n",
    "\n",
    "# Solve and plot for each C value\n",
    "for C in C_values:\n",
    "    t_values, y_values = solve_diff_eq(C, epsilon, t_max, h)\n",
    "    plt.plot(t_values, y_values, label=f'C = {C}')\n",
    "\n",
    "plt.axhline(0, color='gray', linestyle='--')\n",
    "plt.xlabel('Time (t)')\n",
    "plt.ylabel('y(t)')\n",
    "plt.title(\"Numerical Solution of y' = -Cy^2\")\n",
    "plt.legend()\n",
    "plt.grid(True)\n",
    "plt.show()"
   ]
  },
  {
   "cell_type": "markdown",
   "metadata": {},
   "source": [
    "Philosophical Pondering:\n",
    "Creating an \"auto-solver\" that can detect or avoid deeply erroneous solutions is a challenging task. Here are some strategies it might employ:\n",
    "1. Sensitivity Analysis: The solver could perform a sensitivity analysis on the initial conditions and parameters. If small perturbations lead to vastly different solutions, it's a sign that the solution might be erroneous or the system is highly sensitive.\n",
    "2. Consistency Check: For problems with known properties (like the one we discussed), the solver could check if the numerical solution is consistent with these properties.\n",
    "3. Error Estimation: Implement adaptive methods that estimate the local error at each step and adjust the step size accordingly. If"
   ]
  },
  {
   "cell_type": "markdown",
   "metadata": {},
   "source": [
    "###  5. Not a BANG"
   ]
  },
  {
   "cell_type": "markdown",
   "metadata": {},
   "source": [
    "Consider the BVP (Boundary Value Problem):\n",
    "$$\n",
    "y^{\\prime}=y, \\quad y(0)=N\n",
    "$$\n"
   ]
  },
  {
   "cell_type": "markdown",
   "metadata": {},
   "source": [
    "Answer"
   ]
  },
  {
   "cell_type": "markdown",
   "metadata": {},
   "source": [
    "- Solve the problem numerically and find $y\\left(2^k\\right)$ with two correct decimal places for $k=1,2,3, \\ldots$ \n",
    "- Torture your computer until it gives up!"
   ]
  },
  {
   "cell_type": "markdown",
   "metadata": {},
   "source": [
    "#### Step 1: Analytical Solution\n",
    "First, let's find the analytical solution to the differential equation $y' = y$. The solution to this ordinary differential equation (ODE) is $y(t) = N \\times e^t$, where $N$ is the initial condition $y(0)$.\n",
    "\n",
    "#### Step 2: Numerical Solution\n",
    "To solve the problem numerically, we can use the Euler method or a more sophisticated method like the Runge-Kutta method. For the sake of this problem, I'll use the Euler method, which is given by:\n",
    "\\[ y_{n+1} = y_n + h \\times f(t_n, y_n) \\]\n",
    "where $h$ is the step size and $f(t_n, y_n) = y_n$ for our ODE.\n",
    "\n",
    "#### Step 3: Compute $y(2^k)$\n",
    "Using the numerical method, we'll compute the value of $y$ at $t = 2^k$ for increasing values of $k$.\n",
    "\n",
    "#### Step 4: Torture the Computer\n",
    "We'll keep increasing the value of $k$ until the computation becomes infeasible or the computer gives up (runs out of memory or takes too long).\n",
    "\n",
    "Let's start by solving the problem numerically for the first few values of $k$. We'll use a small step size to ensure accuracy.\n",
    "\n",
    "Oops! My apologies for the oversight. I mistakenly tried to assign a value to a protected symbol in the Wolfram Language. Let's correct that and proceed with the numerical solution.\n",
    "\n",
    "The numerical solution for $y(2^k)$ for the first few values of $k$ are:\n",
    "\n",
    "- $y(2^1) \\approx 7.39$\n",
    "- $y(2^2) \\approx 54.60$\n",
    "- $y(2^3) \\approx 2980.96$\n",
    "- $y(2^4) \\approx 360821.70$\n",
    "\n",
    "Note: For $k = 4$, the value lies outside the range of our numerical solution, so extrapolation was used. This means the accuracy might be compromised for larger values of $k$.\n",
    "\n",
    "To \"torture\" the computer, we can try to compute $y(2^k)$ for even larger values of $k$. However, keep in mind that the function $y(t) = e^t$ grows exponentially, so the values will become extremely large very quickly. This might lead to computational limitations or memory issues.\n",
    "\n",
    "Would you like to proceed with larger values of $k$, or is there something else you'd like to explore?"
   ]
  },
  {
   "cell_type": "code",
   "execution_count": 126,
   "metadata": {},
   "outputs": [
    {
     "name": "stdout",
     "output_type": "stream",
     "text": [
      "y(2^1) = 7.38\n",
      "y(2^2) = 54.49\n",
      "y(2^3) = 2969.07\n",
      "y(2^4) = 8815352.21\n",
      "y(2^5) = 77710434673916.30\n",
      "y(2^6) = 6038911657208894121823961088.00\n",
      "y(2^7) = 36468454003574209129910722782970289373297782553315377152.00\n",
      "y(2^8) = 1329948137410799888898130903880720522690951641808092480339789501199089933294614167862818638589551082347457150976.00\n",
      "y(2^9) = 1768762048202456338816726671729478982280408649814008664903835540489429875746832206517516032022813532507810402958909649596726316865216960567025182475733780144000623168740008008756617195444673358697195535649704418701165461504.00\n"
     ]
    }
   ],
   "source": [
    "import math\n",
    "\n",
    "# Define the differential equation\n",
    "f = lambda y: y\n",
    "\n",
    "# Euler's method\n",
    "def euler_method(y0, t0, h, n):\n",
    "    y = y0\n",
    "    t = t0\n",
    "    for _ in range(n):\n",
    "        y += h * f(y)\n",
    "        t += h\n",
    "    return y\n",
    "\n",
    "# Initial condition\n",
    "y0 = 1\n",
    "\n",
    "# Step size\n",
    "h = 0.001\n",
    "\n",
    "# Compute y(2^k) for k=1,2,3,...\n",
    "for k in range(1, 10):\n",
    "    t_target = 2**k\n",
    "    n_steps = int(t_target / h)\n",
    "    y_value = euler_method(y0, 0, h, n_steps)\n",
    "    print(f'y(2^{k}) = {y_value:.2f}')\n",
    "\n",
    "# Note: This code might take a while for larger values of k due to the small step size."
   ]
  },
  {
   "cell_type": "markdown",
   "metadata": {},
   "source": [
    "###  6. What is $\\pi$?"
   ]
  },
  {
   "cell_type": "markdown",
   "metadata": {},
   "source": [
    "Read the beginning of Chapter 4.24. Consider the BVP (Boundary Value Problem):\n",
    "$$\n",
    "y^{\\prime \\prime}+y=0, \\quad y(0)=1, \\quad y^{\\prime}(0)=0\n",
    "$$"
   ]
  },
  {
   "cell_type": "markdown",
   "metadata": {},
   "source": [
    "\n",
    "---\n",
    "\n",
    "- Solve it analytically."
   ]
  },
  {
   "cell_type": "markdown",
   "metadata": {},
   "source": [
    "Certainly! Let's solve the differential equation analytically.\n",
    "\n",
    "Given the differential equation:\n",
    "$$ y'' + y = 0 $$\n",
    "with the initial conditions:\n",
    "$$ y(0) = 1 $$\n",
    "$$ y'(0) = 0 $$\n",
    "\n",
    "### Analytical Solution:\n",
    "\n",
    "To solve this second-order linear homogeneous ODE, we'll assume a solution of the form:\n",
    "$$ y(t) = e^{mt} $$\n",
    "\n",
    "Substituting this into the ODE, we get:\n",
    "$$ m^2 e^{mt} + e^{mt} = 0 $$\n",
    "\n",
    "Factoring out \\( e^{mt} \\) (which is never zero), we get:\n",
    "$$ m^2 + 1 = 0 $$\n",
    "\n",
    "This gives us the characteristic equation:\n",
    "$$ m^2 = -1 $$\n",
    "\n",
    "From which we get:\n",
    "$$ m = i, \\quad m = -i $$\n",
    "\n",
    "Where \\( i \\) is the imaginary unit.\n",
    "\n",
    "The general solutions corresponding to these roots are:\n",
    "$$ e^{it} = \\cos(t) + i \\sin(t) $$\n",
    "$$ e^{-it} = \\cos(t) - i \\sin(t) $$\n",
    "\n",
    "Using the principle of superposition, the general solution to the ODE is:\n",
    "$$ y(t) = A (\\cos(t) + i \\sin(t)) + B (\\cos(t) - i \\sin(t)) $$\n",
    "$$ y(t) = (A + B) \\cos(t) + i (A - B) \\sin(t) $$\n",
    "\n",
    "Given that the solution must be real, the coefficient of the imaginary part must be zero. This implies:\n",
    "$$ A - B = 0 $$\n",
    "$$ A = B $$\n",
    "\n",
    "Thus, the general solution simplifies to:\n",
    "$$ y(t) = 2A \\cos(t) $$\n",
    "\n",
    "Using the initial conditions:\n",
    "$$ y(0) = 2A = 1 $$\n",
    "$$ A = \\frac{1}{2} $$\n",
    "\n",
    "And since \\( y'(t) = -2A \\sin(t) \\) and \\( y'(0) = 0 \\), the value of \\( A \\) remains unchanged.\n",
    "\n",
    "Thus, the solution with the given initial conditions is:\n",
    "$$ y(t) = \\cos(t) $$\n",
    "\n",
    "\n",
    "---"
   ]
  },
  {
   "cell_type": "markdown",
   "metadata": {},
   "source": [
    "- Define $\\pi/2$ as the first value at $t>0$ such that $y(t)=0$. \n",
    "\n",
    "- Estimate $\\pi$ by solving the BVP numerically (and estimating the first zero crossing). \n"
   ]
  },
  {
   "cell_type": "markdown",
   "metadata": {},
   "source": [
    "By solving the boundary value problem (BVP) numerically and estimating the first zero crossing of $y(t)$, we obtain:\n",
    "\n",
    "$$ \\frac{\\pi}{2} \\approx t $$\n",
    "\n",
    "Using the relation:\n",
    "$$ \\pi \\approx 2t $$\n",
    "\n",
    "We estimate the value of $\\pi$ to be approximately $3.1415927239969177$.\n",
    "\n",
    "This value is very close to the known value of $\\pi$, demonstrating the accuracy of the numerical solution.\n",
    "\n",
    "Of course! Let's break down the process step by step.\n",
    "\n",
    "### Step 1: Problem Statement\n",
    "Given the differential equation:\n",
    "$$ y'' + y = 0 $$\n",
    "with the initial conditions:\n",
    "$$ y(0) = 1 $$\n",
    "$$ y'(0) = 0 $$\n",
    "\n",
    "We want to find the first value $ t > 0 $ such that $ y(t) = 0 $. This value will be defined as $ \\frac{\\pi}{2} $.\n",
    "\n",
    "### Step 2: Numerical Solution\n",
    "To solve the differential equation numerically, we can use methods like the Euler method, Runge-Kutta method, or others. For our purpose, we used a built-in numerical solver in Wolfram to solve the equation up to $ t = 2 $ (a value slightly greater than $ \\frac{\\pi}{2} $).\n",
    "\n",
    "### Step 3: Finding the Zero Crossing\n",
    "Once we have the numerical solution, the next step is to find the value of $ t $ where $ y(t) $ crosses zero for the first time. This is the point where the curve intersects the x-axis. We used a root-finding algorithm (like the Newton-Raphson method) to estimate this value.\n",
    "\n",
    "### Step 4: Estimating $ \\pi $\n",
    "Given that the first zero crossing is defined as $ \\frac{\\pi}{2} $, we can estimate $ \\pi $ by simply doubling this value:\n",
    "$$ \\pi \\approx 2t $$\n",
    "\n",
    "### Results:\n",
    "Using the above steps, we found the first zero crossing of $ y(t) $ to be approximately $ t \\approx 1.5707963619984588 $. Thus, our estimate for $ \\pi $ is:\n",
    "$$ \\pi \\approx 2 \\times 1.5707963619984588 = 3.1415927239969177 $$\n",
    "\n",
    "This value is very close to the known value of $ \\pi $, demonstrating the accuracy of our numerical solution and estimation method.\n",
    "\n",
    "---\n"
   ]
  },
  {
   "cell_type": "markdown",
   "metadata": {},
   "source": [
    "\n",
    "- Warm-up: How many correct digits can you get before your computer melts? \n",
    "    - Try Euler and better methods."
   ]
  },
  {
   "cell_type": "markdown",
   "metadata": {},
   "source": [
    "Here's a Python code that estimates the value of $ \\pi $ by solving the differential equation $ y'' + y = 0 $ using both Euler's method and the 4th order Runge-Kutta method:\n",
    "\n",
    "In the code:\n",
    "\n",
    "1. **Euler's Method**: The differential equation is solved using a simple forward Euler method. The value of $ y $ is updated using the current value of its derivative, and the derivative is updated using the differential equation.\n",
    "\n",
    "2. **4th Order Runge-Kutta Method**: This is a more accurate method than Euler's method. It uses four estimates (k1, k2, k3, k4) at each step to update the value of $ y $ and its derivative.\n",
    "\n",
    "The code estimates the value of $ \\pi $ by finding the first zero crossing of $ y(t) $ (i.e., the first value of $ t $ for which $ y(t) = 0 $) and then doubling this value.\n",
    "\n",
    "You can run the code in your Python environment and compare the estimated values of $ \\pi $ obtained using both methods. The Runge-Kutta method should provide a more accurate estimate than the Euler method."
   ]
  },
  {
   "cell_type": "code",
   "execution_count": 133,
   "metadata": {},
   "outputs": [
    {
     "name": "stdout",
     "output_type": "stream",
     "text": [
      "Pi estimated using Euler method: 3.141593999921921\n",
      "Pi estimated using Runge-Kutta method: 3.141593999921921\n"
     ]
    }
   ],
   "source": [
    "import numpy as np\n",
    "\n",
    "# Define the differential equation and its derivative\n",
    "f = lambda t, y, yp: -y\n",
    "\n",
    "# Euler's method\n",
    "def euler_method(h, t_max):\n",
    "    t = 0\n",
    "    y = 1\n",
    "    yp = 0\n",
    "    while y > 0:\n",
    "        yp_new = yp + h * f(t, y, yp)\n",
    "        y += h * yp\n",
    "        yp = yp_new\n",
    "        t += h\n",
    "    return t\n",
    "\n",
    "# 4th order Runge-Kutta method\n",
    "def runge_kutta(h, t_max):\n",
    "    t = 0\n",
    "    y = 1\n",
    "    yp = 0\n",
    "    while y > 0:\n",
    "        k1 = h * yp\n",
    "        l1 = h * f(t, y, yp)\n",
    "        k2 = h * (yp + 0.5 * l1)\n",
    "        l2 = h * f(t + 0.5 * h, y + 0.5 * k1, yp + 0.5 * l1)\n",
    "        k3 = h * (yp + 0.5 * l2)\n",
    "        l3 = h * f(t + 0.5 * h, y + 0.5 * k2, yp + 0.5 * l2)\n",
    "        k4 = h * (yp + l3)\n",
    "        l4 = h * f(t + h, y + k3, yp + l3)\n",
    "        y += (k1 + 2 * k2 + 2 * k3 + k4) / 6\n",
    "        yp += (l1 + 2 * l2 + 2 * l3 + l4) / 6\n",
    "        t += h\n",
    "    return t\n",
    "\n",
    "# Step size\n",
    "h = 0.000001\n",
    "t_max=10000\n",
    "\n",
    "# Estimate pi using both methods\n",
    "pi_euler = 2 * euler_method(h, t_max)\n",
    "pi_rk = 2 * runge_kutta(h, t_max)\n",
    "\n",
    "print(f'Pi estimated using Euler method: {pi_euler}')\n",
    "print(f'Pi estimated using Runge-Kutta method: {pi_rk}')"
   ]
  },
  {
   "cell_type": "markdown",
   "metadata": {},
   "source": [
    "\n",
    "---\n",
    "\n",
    "- After warming up: find 20 correct decimal places. \n",
    "    - Hint: you can ask for a hint."
   ]
  },
  {
   "cell_type": "markdown",
   "metadata": {},
   "source": [
    "To achieve an estimate of $ \\pi $ with 20 correct decimal places, we need to use a very small step size in the Runge-Kutta method. I've refined the step size to $ h = 1 \\times 10^{-10} $ in the code.\n",
    "\n",
    "Here's the Python code that uses the 4th order Runge-Kutta method with this refined step size to estimate the value of $ \\pi $ to 20 decimal places:\n",
    "\n",
    "[Estimating Pi with High Precision using Runge-Kutta Method](https://cpad.io/s/daa91e50)\n",
    "\n",
    "You can run the code in your Python environment to obtain the estimate. Keep in mind that using such a small step size will increase the computation time, but it's necessary to achieve the desired precision."
   ]
  },
  {
   "cell_type": "code",
   "execution_count": 136,
   "metadata": {},
   "outputs": [],
   "source": [
    "import numpy as np\n",
    "\n",
    "# Define the differential equation and its derivative\n",
    "f = lambda t, y, yp: -y\n",
    "\n",
    "# 4th order Runge-Kutta method\n",
    "def runge_kutta(h):\n",
    "    t = 0\n",
    "    y = 1\n",
    "    yp = 0\n",
    "    while y > 0:\n",
    "        k1 = h * yp\n",
    "        l1 = h * f(t, y, yp)\n",
    "        k2 = h * (yp + 0.5 * l1)\n",
    "        l2 = h * f(t + 0.5 * h, y + 0.5 * k1, yp + 0.5 * l1)\n",
    "        k3 = h * (yp + 0.5 * l2)\n",
    "        l3 = h * f(t + 0.5 * h, y + 0.5 * k2, yp + 0.5 * l2)\n",
    "        k4 = h * (yp + l3)\n",
    "        l4 = h * f(t + h, y + k3, yp + l3)\n",
    "        y += (k1 + 2 * k2 + 2 * k3 + k4) / 6\n",
    "        yp += (l1 + 2 * l2 + 2 * l3 + l4) / 6\n",
    "        t += h\n",
    "    return t\n",
    "\n",
    "# Use a very small step size for high precision\n",
    "h = 1e-10\n",
    "\n",
    "# Estimate pi using Runge-Kutta method\n",
    "pi_rk = 2 * runge_kutta(h)\n",
    "\n",
    "print(f'Pi estimated using Runge-Kutta method: {pi_rk:.20f}')"
   ]
  },
  {
   "cell_type": "markdown",
   "metadata": {},
   "source": [
    "\n",
    "---\n",
    "\n",
    "- If, instead, we choose to estimate $\\pi$ by finding the root closest to $10^3$, how much more challenging does the problem become?"
   ]
  },
  {
   "cell_type": "markdown",
   "metadata": {},
   "source": [
    "### Problem Statement:\n",
    "Instead of finding the first zero crossing of $y(t)$ to estimate $ \\frac{\\pi}{2} $, we want to find the zero crossing closest to $ t = 10^3 $ (i.e., 1000) to estimate $ \\pi $.\n",
    "\n",
    "### Analysis:\n",
    "\n",
    "1. **Periodicity of the Solution**: The differential equation $ y'' + y = 0 $ has a solution of the form $ y(t) = A \\cos(t) + B \\sin(t) $. This solution is periodic with a period of $ 2\\pi $. This means that $ y(t) $ will cross zero every $ \\pi $ units.\n",
    "\n",
    "2. **Number of Zero Crossings Before $ t = 10^3 $**: Given the periodic nature of the solution, there will be approximately $ \\frac{10^3}{\\pi} $ zero crossings before $ t = 10^3 $.\n",
    "\n",
    "3. **Computational Challenge**: To find the zero crossing closest to $ t = 10^3 $, we would need to solve the differential equation numerically up to that point. The computational effort required is proportional to the number of steps taken, which in turn is dependent on the step size. A smaller step size will yield a more accurate result but will require more computational effort.\n",
    "\n",
    "### Comparison with Previous Problem:\n",
    "\n",
    "In the previous problem, we were interested in the first zero crossing, which occurs around $ t = \\frac{\\pi}{2} $. In this new scenario, we're interested in a zero crossing around $ t = 10^3 $. This means we have to compute the solution for a much longer interval, making the problem more computationally intensive.\n",
    "\n",
    "### Solution Approach:\n",
    "\n",
    "To estimate $ \\pi $ by finding the root closest to $ t = 10^3 $:\n",
    "\n",
    "1. Solve the differential equation numerically up to $ t = 10^3 $ using a suitable method (like the 4th order Runge-Kutta method).\n",
    "2. Identify the zero crossing closest to $ t = 10^3 $.\n",
    "3. Use this zero crossing to estimate $ \\pi $."
   ]
  },
  {
   "cell_type": "code",
   "execution_count": 111,
   "metadata": {},
   "outputs": [],
   "source": [
    "import numpy as np\n",
    "\n",
    "# Define the differential equation and its derivative\n",
    "f = lambda t, y, yp: -y\n",
    "\n",
    "# 4th order Runge-Kutta method\n",
    "def runge_kutta(h, t_max):\n",
    "    t = 0\n",
    "    y = 1\n",
    "    yp = 0\n",
    "    zero_crossings = []\n",
    "    while t < t_max:\n",
    "        k1 = h * yp\n",
    "        l1 = h * f(t, y, yp)\n",
    "        k2 = h * (yp + 0.5 * l1)\n",
    "        l2 = h * f(t + 0.5 * h, y + 0.5 * k1, yp + 0.5 * l1)\n",
    "        k3 = h * (yp + 0.5 * l2)\n",
    "        l3 = h * f(t + 0.5 * h, y + 0.5 * k2, yp + 0.5 * l2)\n",
    "        k4 = h * (yp + l3)\n",
    "        l4 = h * f(t + h, y + k3, yp + l3)\n",
    "        y += (k1 + 2 * k2 + 2 * k3 + k4) / 6\n",
    "        yp += (l1 + 2 * l2 + 2 * l3 + l4) / 6\n",
    "        t += h\n",
    "        if y * (y + (k1 + 2 * k2 + 2 * k3 + k4) / 6) <= 0:  # Check for zero crossing\n",
    "            zero_crossings.append(t)\n",
    "    return zero_crossings[-1]  # Return the last zero crossing before t_max\n",
    "\n",
    "# Use a small step size for precision\n",
    "h = 1e-5\n",
    "\n",
    "# Estimate pi using Runge-Kutta method\n",
    "zero_crossing = runge_kutta(h, 10**3)\n",
    "pi_estimate = 2 * zero_crossing\n",
    "\n",
    "print(f'Pi estimated using zero crossing closest to 10^3: {pi_estimate:.20f}')"
   ]
  },
  {
   "cell_type": "markdown",
   "metadata": {},
   "source": [
    "Answer"
   ]
  },
  {
   "cell_type": "markdown",
   "metadata": {},
   "source": [
    "\n",
    "###  7. Newton!"
   ]
  },
  {
   "cell_type": "markdown",
   "metadata": {},
   "source": [
    "Read Chapter 3.21. Place the sun at the origin and assume the sun does not move. \n",
    "Consider a planet $P$ moving in the $(x, y)$ plane, and let $(x(t), y(t))$ be the planet's position at time $t$."
   ]
  },
  {
   "cell_type": "markdown",
   "metadata": {},
   "source": [
    "- Derive a second-order system of differential equations that describes the motion of the planet.\n",
    "    - Without switching to polar coordinates! \n",
    "    - You can choose masses so that the equations become as simple as possible."
   ]
  },
  {
   "cell_type": "markdown",
   "metadata": {},
   "source": [
    "Answer"
   ]
  },
  {
   "cell_type": "markdown",
   "metadata": {},
   "source": [
    "- Simulate the system for a short period by solving it numerically for various choices of initial values.\n"
   ]
  },
  {
   "cell_type": "code",
   "execution_count": 112,
   "metadata": {},
   "outputs": [],
   "source": [
    "# Code"
   ]
  },
  {
   "cell_type": "markdown",
   "metadata": {},
   "source": [
    "- Plot!"
   ]
  },
  {
   "cell_type": "code",
   "execution_count": 113,
   "metadata": {},
   "outputs": [],
   "source": [
    "# Code"
   ]
  },
  {
   "cell_type": "markdown",
   "metadata": {},
   "source": [
    "- Simulate the system for a long period by solving it numerically for various choices of initial values. "
   ]
  },
  {
   "cell_type": "code",
   "execution_count": 114,
   "metadata": {},
   "outputs": [],
   "source": [
    "# Code"
   ]
  },
  {
   "cell_type": "markdown",
   "metadata": {},
   "source": [
    "- Can you discover anything unusual?\n",
    "    - You can ask for a hint."
   ]
  },
  {
   "cell_type": "markdown",
   "metadata": {},
   "source": [
    "Answer"
   ]
  },
  {
   "cell_type": "markdown",
   "metadata": {},
   "source": [
    "- Hint: In our universe and in this course, energy is conserved."
   ]
  },
  {
   "cell_type": "markdown",
   "metadata": {},
   "source": [
    "- Can you find ways to restore order in our simulation? \n",
    "    - You can ask for a hint.\n",
    "    - Hint: Look into semi-implicit Euler or symplectic Euler methods."
   ]
  },
  {
   "cell_type": "code",
   "execution_count": 115,
   "metadata": {},
   "outputs": [],
   "source": [
    "# Code"
   ]
  },
  {
   "cell_type": "markdown",
   "metadata": {},
   "source": [
    "Answer"
   ]
  },
  {
   "cell_type": "markdown",
   "metadata": {},
   "source": [
    "### 8. Newton revisited - Something for nothing\n"
   ]
  },
  {
   "cell_type": "markdown",
   "metadata": {},
   "source": [
    "- Consider a planetary system with the sun, Jupiter a massive planet, and Earth point-like. \n",
    "- Given a spacecraft near Earth with \"delta-v\" so small that the spacecraft cannot leave the solar system \n",
    "    - Hint: \"escape velocity\"\n",
    "    - Design an orbit near Jupiter that acts as a \"gravitational slingshot\" so that the spacecraft can leave the solar system."
   ]
  },
  {
   "cell_type": "code",
   "execution_count": 116,
   "metadata": {},
   "outputs": [],
   "source": [
    "# Code"
   ]
  },
  {
   "cell_type": "markdown",
   "metadata": {},
   "source": [
    "Answer"
   ]
  },
  {
   "cell_type": "markdown",
   "metadata": {},
   "source": [
    "- Explore numerically and find masses, planet orbits, etc., so that the above scenario works. \n",
    "    - Hints: use astronomical units -> Earth is approximately 1 AU from the Sun. \n",
    "    - If you have trouble hitting Jupiter, use software to search for initial conditions. \n",
    "    - You can ask for hints."
   ]
  },
  {
   "cell_type": "code",
   "execution_count": 117,
   "metadata": {},
   "outputs": [],
   "source": [
    "#Code"
   ]
  },
  {
   "cell_type": "markdown",
   "metadata": {},
   "source": [
    "Answer"
   ]
  },
  {
   "cell_type": "markdown",
   "metadata": {},
   "source": [
    "- How can you be sure that the spacecraft is truly leaving the solar system?\n"
   ]
  },
  {
   "cell_type": "code",
   "execution_count": 118,
   "metadata": {},
   "outputs": [],
   "source": [
    "# Code"
   ]
  },
  {
   "cell_type": "markdown",
   "metadata": {},
   "source": [
    "Answer"
   ]
  }
 ],
 "metadata": {
  "kernelspec": {
   "display_name": "Python 3",
   "language": "python",
   "name": "python3"
  },
  "language_info": {
   "codemirror_mode": {
    "name": "ipython",
    "version": 3
   },
   "file_extension": ".py",
   "mimetype": "text/x-python",
   "name": "python",
   "nbconvert_exporter": "python",
   "pygments_lexer": "ipython3",
   "version": "3.10.11"
  },
  "orig_nbformat": 4
 },
 "nbformat": 4,
 "nbformat_minor": 2
}
