{
 "cells": [
  {
   "cell_type": "markdown",
   "metadata": {},
   "source": [
    "###  1 Language: Python"
   ]
  },
  {
   "cell_type": "markdown",
   "metadata": {},
   "source": [
    "All numerical code should be written in Python."
   ]
  },
  {
   "cell_type": "markdown",
   "metadata": {},
   "source": [
    "### 2. The number $N$"
   ]
  },
  {
   "cell_type": "markdown",
   "metadata": {},
   "source": [
    "For me the number $N$ is $72$."
   ]
  },
  {
   "cell_type": "code",
   "execution_count": 51,
   "metadata": {},
   "outputs": [],
   "source": [
    "N=72"
   ]
  },
  {
   "cell_type": "markdown",
   "metadata": {},
   "source": [
    "### 3. Existence but not uniqueness\n"
   ]
  },
  {
   "cell_type": "markdown",
   "metadata": {},
   "source": [
    "\n",
    "Consider the BVP (Boundary Value Problem):\n",
    "$$\n",
    "y^{\\prime} = \\sqrt{|y|}, \\quad y(0)=0\n",
    "$$"
   ]
  },
  {
   "cell_type": "markdown",
   "metadata": {},
   "source": [
    "- Warm up by solving it analytically.\n"
   ]
  },
  {
   "cell_type": "markdown",
   "metadata": {},
   "source": [
    "For the $y<0$:\n",
    "$$\n",
    "\\begin{gathered}\n",
    "\\frac{d y}{d x}=\\sqrt{-y} \\\\\n",
    "(-y)^{-\\frac{1}{2}} \\frac{d y}{d x}=1 \\\\\n",
    "-2 \\sqrt{-y}=x+c \\\\\n",
    "-4 y=(x+c)^2 \\\\\n",
    "y=-\\frac{1}{4}(x+c)^2\n",
    "\\end{gathered}\n",
    "$$\n",
    "$$\n",
    "y(x)=-\\frac{x^2}{4}\n",
    "$$"
   ]
  },
  {
   "cell_type": "markdown",
   "metadata": {},
   "source": [
    "for $y>0$\n",
    "$$\n",
    "\\begin{gathered}\n",
    "\\frac{d y}{d x}=\\sqrt{y} \\\\\n",
    "(y)^{-\\frac{1}{2}} y^{\\prime}=1 \\\\\n",
    "2 y^{\\frac{1}{2}}=x+c \\\\\n",
    "y^{\\frac{1}{2}}=\\frac{1}{2}(x+c) \\\\\n",
    "y=\\frac{1}{4}(x+c)^2\n",
    "\\end{gathered}\n",
    "$$\n",
    "$$\n",
    "y(x)=\\frac{x^2}{4}\n",
    "$$"
   ]
  },
  {
   "cell_type": "markdown",
   "metadata": {},
   "source": [
    "Solve the problem numerically. \n",
    "\n",
    "- Any comments?"
   ]
  },
  {
   "cell_type": "code",
   "execution_count": 52,
   "metadata": {},
   "outputs": [],
   "source": [
    "#Code"
   ]
  },
  {
   "cell_type": "markdown",
   "metadata": {},
   "source": [
    "Answer"
   ]
  },
  {
   "cell_type": "markdown",
   "metadata": {},
   "source": [
    "- For how long can you get a numerical solution to \"stick\" to $y=0$ given that $y(-1)=-1$? \n",
    "- That is, let $y(-1)=-1+\\epsilon$ with $\\epsilon$ being \"tiny\", and we say that $y$ \"sticks\" as long as $|y| \\leq 10^{-4}$."
   ]
  },
  {
   "cell_type": "markdown",
   "metadata": {},
   "source": [
    "Answer"
   ]
  },
  {
   "cell_type": "markdown",
   "metadata": {},
   "source": [
    "### 4. PANG"
   ]
  },
  {
   "cell_type": "markdown",
   "metadata": {},
   "source": [
    "Betrakta BVP\n",
    "$$\n",
    "y^{\\prime}=y^2, \\quad y(0)=N / 100\n",
    "$$"
   ]
  },
  {
   "cell_type": "markdown",
   "metadata": {},
   "source": [
    "- Solve the problem analytically. When does it \"blow up\"?\n"
   ]
  },
  {
   "cell_type": "markdown",
   "metadata": {},
   "source": [
    "Answer"
   ]
  },
  {
   "cell_type": "markdown",
   "metadata": {},
   "source": [
    "- Try solving the problem numerically."
   ]
  },
  {
   "cell_type": "markdown",
   "metadata": {},
   "source": [
    "Answer"
   ]
  },
  {
   "cell_type": "markdown",
   "metadata": {},
   "source": [
    "- Can you \"numerically show\" that it blows up? \n",
    "\n",
    "- Can you estimate the time to singularity?"
   ]
  },
  {
   "cell_type": "markdown",
   "metadata": {},
   "source": [
    "Answer"
   ]
  },
  {
   "cell_type": "markdown",
   "metadata": {},
   "source": [
    "- Show via Picard that if $y(0)<0$, then $y(t)<0$ for all $t>0$. "
   ]
  },
  {
   "cell_type": "markdown",
   "metadata": {},
   "source": [
    "Answer"
   ]
  },
  {
   "cell_type": "markdown",
   "metadata": {},
   "source": [
    "- Can you find numerical examples where $y(0)=\\epsilon<0$, but $y(t)>0$ for some $t>0$? \n",
    "\n",
    "- You may need to modify the equation slightly and use $y' - Cy^2$ for a \"large\" $C>0\". \n",
    "\n",
    "- Philosophical pondering: if you were to create an \"auto-solver,\" how should it avoid/detect deeply erroneous solutions of this kind?"
   ]
  },
  {
   "cell_type": "markdown",
   "metadata": {},
   "source": [
    "Answer"
   ]
  },
  {
   "cell_type": "markdown",
   "metadata": {},
   "source": [
    "###  5. Not a BANG"
   ]
  },
  {
   "cell_type": "markdown",
   "metadata": {},
   "source": [
    "Consider the BVP (Boundary Value Problem):\n",
    "$$\n",
    "y^{\\prime}=y, \\quad y(0)=N\n",
    "$$\n"
   ]
  },
  {
   "cell_type": "markdown",
   "metadata": {},
   "source": [
    "Answer"
   ]
  },
  {
   "cell_type": "markdown",
   "metadata": {},
   "source": [
    "- Solve the problem numerically and find $y\\left(2^k\\right)$ with two correct decimal places for $k=1,2,3, \\ldots$ \n",
    "- Torture your computer until it gives up!"
   ]
  },
  {
   "cell_type": "code",
   "execution_count": 53,
   "metadata": {},
   "outputs": [],
   "source": [
    "#Code"
   ]
  },
  {
   "cell_type": "markdown",
   "metadata": {},
   "source": [
    "###  6. What is $\\pi$?"
   ]
  },
  {
   "cell_type": "markdown",
   "metadata": {},
   "source": [
    "Read the beginning of Chapter 4.24. Consider the BVP (Boundary Value Problem):\n",
    "$$\n",
    "y^{\\prime \\prime}+y=0, \\quad y(0)=1, \\quad y^{\\prime}(0)=0\n",
    "$$"
   ]
  },
  {
   "cell_type": "markdown",
   "metadata": {},
   "source": [
    "- Solve it analytically."
   ]
  },
  {
   "cell_type": "markdown",
   "metadata": {},
   "source": [
    "Answer"
   ]
  },
  {
   "cell_type": "markdown",
   "metadata": {},
   "source": [
    "- Define $\\pi/2$ as the first value at $t>0$ such that $y(t)=0$. \n",
    "\n",
    "- Estimate $\\pi$ by solving the BVP numerically (and estimating the first zero crossing). \n"
   ]
  },
  {
   "cell_type": "markdown",
   "metadata": {},
   "source": [
    "Answer"
   ]
  },
  {
   "cell_type": "markdown",
   "metadata": {},
   "source": [
    "\n",
    "- Warm-up: How many correct digits can you get before your computer melts? \n",
    "    - Try Euler and better methods."
   ]
  },
  {
   "cell_type": "code",
   "execution_count": 54,
   "metadata": {},
   "outputs": [],
   "source": [
    "#Code"
   ]
  },
  {
   "cell_type": "markdown",
   "metadata": {},
   "source": [
    "- After warming up: find 20 correct decimal places. \n",
    "    - Hint: you can ask for a hint."
   ]
  },
  {
   "cell_type": "code",
   "execution_count": 55,
   "metadata": {},
   "outputs": [],
   "source": [
    "#Code"
   ]
  },
  {
   "cell_type": "markdown",
   "metadata": {},
   "source": [
    "- If, instead, we choose to estimate $\\pi$ by finding the root closest to $10^3$, how much more challenging does the problem become?"
   ]
  },
  {
   "cell_type": "code",
   "execution_count": 56,
   "metadata": {},
   "outputs": [],
   "source": [
    "#Code"
   ]
  },
  {
   "cell_type": "markdown",
   "metadata": {},
   "source": [
    "Answer"
   ]
  },
  {
   "cell_type": "markdown",
   "metadata": {},
   "source": [
    "\n",
    "###  7. Newton!"
   ]
  },
  {
   "cell_type": "markdown",
   "metadata": {},
   "source": [
    "Read Chapter 3.21. Place the sun at the origin and assume the sun does not move. \n",
    "Consider a planet $P$ moving in the $(x, y)$ plane, and let $(x(t), y(t))$ be the planet's position at time $t$."
   ]
  },
  {
   "cell_type": "markdown",
   "metadata": {},
   "source": [
    "- Derive a second-order system of differential equations that describes the motion of the planet.\n",
    "    - Without switching to polar coordinates! \n",
    "    - You can choose masses so that the equations become as simple as possible."
   ]
  },
  {
   "cell_type": "markdown",
   "metadata": {},
   "source": [
    "Answer"
   ]
  },
  {
   "cell_type": "markdown",
   "metadata": {},
   "source": [
    "- Simulate the system for a short period by solving it numerically for various choices of initial values.\n"
   ]
  },
  {
   "cell_type": "code",
   "execution_count": 57,
   "metadata": {},
   "outputs": [],
   "source": [
    "# Code"
   ]
  },
  {
   "cell_type": "markdown",
   "metadata": {},
   "source": [
    "- Plot!"
   ]
  },
  {
   "cell_type": "code",
   "execution_count": 58,
   "metadata": {},
   "outputs": [],
   "source": [
    "# Code"
   ]
  },
  {
   "cell_type": "markdown",
   "metadata": {},
   "source": [
    "- Simulate the system for a long period by solving it numerically for various choices of initial values. "
   ]
  },
  {
   "cell_type": "code",
   "execution_count": 59,
   "metadata": {},
   "outputs": [],
   "source": [
    "# Code"
   ]
  },
  {
   "cell_type": "markdown",
   "metadata": {},
   "source": [
    "- Can you discover anything unusual?\n",
    "    - You can ask for a hint."
   ]
  },
  {
   "cell_type": "markdown",
   "metadata": {},
   "source": [
    "Answer"
   ]
  },
  {
   "cell_type": "markdown",
   "metadata": {},
   "source": [
    "- Hint: In our universe and in this course, energy is conserved."
   ]
  },
  {
   "cell_type": "markdown",
   "metadata": {},
   "source": [
    "- Can you find ways to restore order in our simulation? \n",
    "    - You can ask for a hint.\n",
    "    - Hint: Look into semi-implicit Euler or symplectic Euler methods."
   ]
  },
  {
   "cell_type": "code",
   "execution_count": 60,
   "metadata": {},
   "outputs": [],
   "source": [
    "# Code"
   ]
  },
  {
   "cell_type": "markdown",
   "metadata": {},
   "source": [
    "Answer"
   ]
  },
  {
   "cell_type": "markdown",
   "metadata": {},
   "source": [
    "### 8. Newton revisited - Something for nothing\n"
   ]
  },
  {
   "cell_type": "markdown",
   "metadata": {},
   "source": [
    "- Consider a planetary system with the sun, Jupiter a massive planet, and Earth point-like. \n",
    "- Given a spacecraft near Earth with \"delta-v\" so small that the spacecraft cannot leave the solar system \n",
    "    - Hint: \"escape velocity\"\n",
    "    - Design an orbit near Jupiter that acts as a \"gravitational slingshot\" so that the spacecraft can leave the solar system."
   ]
  },
  {
   "cell_type": "code",
   "execution_count": 61,
   "metadata": {},
   "outputs": [],
   "source": [
    "# Code"
   ]
  },
  {
   "cell_type": "markdown",
   "metadata": {},
   "source": [
    "Answer"
   ]
  },
  {
   "cell_type": "markdown",
   "metadata": {},
   "source": [
    "- Explore numerically and find masses, planet orbits, etc., so that the above scenario works. \n",
    "    - Hints: use astronomical units -> Earth is approximately 1 AU from the Sun. \n",
    "    - If you have trouble hitting Jupiter, use software to search for initial conditions. \n",
    "    - You can ask for hints."
   ]
  },
  {
   "cell_type": "code",
   "execution_count": 62,
   "metadata": {},
   "outputs": [],
   "source": [
    "#Code"
   ]
  },
  {
   "cell_type": "markdown",
   "metadata": {},
   "source": [
    "Answer"
   ]
  },
  {
   "cell_type": "markdown",
   "metadata": {},
   "source": [
    "- How can you be sure that the spacecraft is truly leaving the solar system?\n"
   ]
  },
  {
   "cell_type": "code",
   "execution_count": 63,
   "metadata": {},
   "outputs": [],
   "source": [
    "# Code"
   ]
  },
  {
   "cell_type": "markdown",
   "metadata": {},
   "source": [
    "Answer"
   ]
  }
 ],
 "metadata": {
  "kernelspec": {
   "display_name": "Python 3",
   "language": "python",
   "name": "python3"
  },
  "language_info": {
   "codemirror_mode": {
    "name": "ipython",
    "version": 3
   },
   "file_extension": ".py",
   "mimetype": "text/x-python",
   "name": "python",
   "nbconvert_exporter": "python",
   "pygments_lexer": "ipython3",
   "version": "3.10.11"
  },
  "orig_nbformat": 4
 },
 "nbformat": 4,
 "nbformat_minor": 2
}
